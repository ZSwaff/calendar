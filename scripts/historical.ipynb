{
 "cells": [
  {
   "cell_type": "markdown",
   "metadata": {},
   "source": [
    "# Analyze Historical Calendar Events"
   ]
  },
  {
   "cell_type": "code",
   "execution_count": 2,
   "metadata": {},
   "outputs": [],
   "source": [
    "import os\n",
    "import sys\n",
    "import json\n",
    "import csv\n",
    "from datetime import datetime\n",
    "from importlib import import_module\n",
    "\n",
    "import pandas as pd\n",
    "\n",
    "sys.path.append(os.path.abspath('../src'))\n",
    "from gcal.util import get_client"
   ]
  },
  {
   "cell_type": "code",
   "execution_count": 3,
   "metadata": {},
   "outputs": [],
   "source": [
    "USERNAME = 'zack@plenty.ag'\n",
    "START_DT = datetime(2016, 6, 13)\n",
    "END_DT = datetime.utcnow()\n",
    "\n",
    "START_DT_STR = START_DT.isoformat() + 'Z'\n",
    "END_DT_STR = END_DT.isoformat() + 'Z'"
   ]
  },
  {
   "cell_type": "code",
   "execution_count": 4,
   "metadata": {},
   "outputs": [],
   "source": [
    "CACHE_PATH = 'HIST_CACHE.csv'"
   ]
  },
  {
   "cell_type": "code",
   "execution_count": 5,
   "metadata": {},
   "outputs": [],
   "source": [
    "def load_events():\n",
    "    if not os.path.exists(CACHE_PATH):\n",
    "        calendar = get_client()\n",
    "\n",
    "        all_results = []\n",
    "        req = calendar.events().list(\n",
    "            calendarId='zack@plenty.ag',\n",
    "            timeMin=START_DT_STR,\n",
    "            timeMax=END_DT_STR,\n",
    "            singleEvents=True,\n",
    "            orderBy='startTime'\n",
    "        )\n",
    "        while req:\n",
    "            res = req.execute()\n",
    "            all_results += res['items']\n",
    "            req = calendar.events().list_next(req, res)\n",
    "            print(all_results[-1].get('start', {}).get('dateTime'))\n",
    "\n",
    "        headers = set()\n",
    "        for e in all_results:\n",
    "            headers |= e.keys()\n",
    "\n",
    "        with open(CACHE_PATH, 'w+') as fout:\n",
    "            writer = csv.DictWriter(fout, fieldnames=headers)\n",
    "            writer.writeheader()\n",
    "            for e in all_results:\n",
    "                writer.writerow(e)\n",
    "\n",
    "    return pd.read_csv(CACHE_PATH)\n",
    "\n",
    "events = load_events()"
   ]
  },
  {
   "cell_type": "code",
   "execution_count": 6,
   "metadata": {},
   "outputs": [
    {
     "name": "stdout",
     "output_type": "stream",
     "text": [
      "1243\n",
      "4938\n",
      "Index(['originalStartTime', 'creator', 'description', 'attachments',\n",
      "       'reminders', 'kind', 'guestsCanInviteOthers', 'conferenceData',\n",
      "       'extendedProperties', 'guestsCanSeeOtherGuests', 'recurringEventId',\n",
      "       'created', 'transparency', 'hangoutLink', 'etag', 'status', 'htmlLink',\n",
      "       'start', 'updated', 'iCalUID', 'id', 'organizer', 'privateCopy', 'end',\n",
      "       'guestsCanModify', 'attendees', 'location', 'sequence', 'visibility',\n",
      "       'summary'],\n",
      "      dtype='object')\n",
      "originalStartTime                                                        NaN\n",
      "creator                                    {'email': 'nate@seejanefarm.com'}\n",
      "description                Hi Guys,\\n\\nI look forward to our conversation...\n",
      "attachments                                                              NaN\n",
      "reminders                                               {'useDefault': True}\n",
      "kind                                                          calendar#event\n",
      "guestsCanInviteOthers                                                    NaN\n",
      "conferenceData                                                           NaN\n",
      "extendedProperties                                                       NaN\n",
      "guestsCanSeeOtherGuests                                                  NaN\n",
      "recurringEventId                                                         NaN\n",
      "created                                             2016-06-27T04:58:56.000Z\n",
      "transparency                                                             NaN\n",
      "hangoutLink                                                              NaN\n",
      "etag                                                      \"2934179838650000\"\n",
      "status                                                             confirmed\n",
      "htmlLink                   https://www.google.com/calendar/event?eid=cDQ5...\n",
      "start                              {'dateTime': '2016-06-28T12:00:00-07:00'}\n",
      "updated                                             2016-06-28T04:58:39.325Z\n",
      "iCalUID                                p49cmgg1qvih2ctrrt5rt046ek@google.com\n",
      "id                                                p49cmgg1qvih2ctrrt5rt046ek\n",
      "organizer                                  {'email': 'nate@seejanefarm.com'}\n",
      "privateCopy                                                              NaN\n",
      "end                                {'dateTime': '2016-06-28T13:30:00-07:00'}\n",
      "guestsCanModify                                                          NaN\n",
      "attendees                  [{'email': 'zack.swafford@plenty.ag', 'self': ...\n",
      "location                   Wilson Sonsini Goodrich & Rosati, 650 Page Mil...\n",
      "sequence                                                                   0\n",
      "visibility                                                               NaN\n",
      "summary                                                       HOLD: CS Convo\n",
      "Name: 0, dtype: object\n"
     ]
    }
   ],
   "source": [
    "print((END_DT - START_DT).days)\n",
    "print(len(events))\n",
    "print(events.columns)\n",
    "print(events.iloc[0])"
   ]
  },
  {
   "cell_type": "code",
   "execution_count": 9,
   "metadata": {},
   "outputs": [],
   "source": [
    "a = events.apply(lambda row: eval(row.get('creator', {})).get('email'), axis=1)\n",
    "b = events.apply(lambda row: eval(row.get('organizer', {})).get('email'), axis=1)"
   ]
  },
  {
   "cell_type": "code",
   "execution_count": 21,
   "metadata": {},
   "outputs": [
    {
     "data": {
      "text/plain": [
       "{'accepted', 'declined', 'needsAction', 'tentative'}"
      ]
     },
     "execution_count": 21,
     "metadata": {},
     "output_type": "execute_result"
    }
   ],
   "source": [
    "c = eval(events[a != b].iloc[-1]['attendees'])\n",
    "set(e['responseStatus'] for e in c)"
   ]
  },
  {
   "cell_type": "code",
   "execution_count": null,
   "metadata": {},
   "outputs": [],
   "source": []
  }
 ],
 "metadata": {
  "kernelspec": {
   "display_name": "Python 3",
   "language": "python",
   "name": "python3"
  },
  "language_info": {
   "codemirror_mode": {
    "name": "ipython",
    "version": 3
   },
   "file_extension": ".py",
   "mimetype": "text/x-python",
   "name": "python",
   "nbconvert_exporter": "python",
   "pygments_lexer": "ipython3",
   "version": "3.7.4"
  }
 },
 "nbformat": 4,
 "nbformat_minor": 2
}
