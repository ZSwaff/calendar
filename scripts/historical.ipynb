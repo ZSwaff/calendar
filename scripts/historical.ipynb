{
 "cells": [
  {
   "cell_type": "markdown",
   "metadata": {},
   "source": [
    "# Analyze Historical Calendar Events"
   ]
  },
  {
   "cell_type": "code",
   "execution_count": 1,
   "metadata": {},
   "outputs": [],
   "source": [
    "import os\n",
    "import sys\n",
    "import json\n",
    "import csv\n",
    "from datetime import datetime\n",
    "from importlib import import_module\n",
    "\n",
    "import pandas as pd\n",
    "\n",
    "sys.path.append(os.path.abspath('../src'))\n",
    "from gcal.util import get_client\n",
    "from event import from_gcal_events"
   ]
  },
  {
   "cell_type": "code",
   "execution_count": 2,
   "metadata": {},
   "outputs": [],
   "source": [
    "USERNAME = 'zack@plenty.ag'\n",
    "START_DT = datetime(2016, 6, 13)\n",
    "END_DT = datetime.utcnow()\n",
    "\n",
    "START_DT_STR = START_DT.isoformat() + 'Z'\n",
    "END_DT_STR = END_DT.isoformat() + 'Z'"
   ]
  },
  {
   "cell_type": "code",
   "execution_count": 3,
   "metadata": {},
   "outputs": [],
   "source": [
    "CACHE_PATH = 'HIST_CACHE.csv'"
   ]
  },
  {
   "cell_type": "code",
   "execution_count": 9,
   "metadata": {},
   "outputs": [],
   "source": [
    "def load_events():\n",
    "    if not os.path.exists(CACHE_PATH):\n",
    "        calendar = get_client()\n",
    "\n",
    "        all_results = []\n",
    "        req = calendar.events().list(\n",
    "            calendarId='zack@plenty.ag',\n",
    "            timeMin=START_DT_STR,\n",
    "            timeMax=END_DT_STR,\n",
    "            singleEvents=True,\n",
    "            orderBy='startTime'\n",
    "        )\n",
    "        while req:\n",
    "            res = req.execute()\n",
    "            all_results += res['items']\n",
    "            req = calendar.events().list_next(req, res)\n",
    "            print(all_results[-1].get('start', {}).get('dateTime'))\n",
    "\n",
    "        headers = set()\n",
    "        for e in all_results:\n",
    "            headers |= e.keys()\n",
    "\n",
    "        with open(CACHE_PATH, 'w+') as fout:\n",
    "            writer = csv.DictWriter(fout, fieldnames=headers)\n",
    "            writer.writeheader()\n",
    "            for e in all_results:\n",
    "                writer.writerow(e)\n",
    "\n",
    "    return pd.read_csv(CACHE_PATH)\n",
    "\n",
    "gcal_events = load_events()"
   ]
  },
  {
   "cell_type": "code",
   "execution_count": 10,
   "metadata": {},
   "outputs": [
    {
     "name": "stdout",
     "output_type": "stream",
     "text": [
      "Days: 1258\n",
      "Evts: 5395\n",
      "Cols: Index(['originalStartTime', 'status', 'reminders', 'creator', 'id', 'kind',\n",
      "       'description', 'privateCopy', 'recurringEventId', 'updated',\n",
      "       'attachments', 'etag', 'guestsCanInviteOthers', 'transparency',\n",
      "       'created', 'iCalUID', 'guestsCanSeeOtherGuests', 'attendees',\n",
      "       'location', 'guestsCanModify', 'organizer', 'extendedProperties',\n",
      "       'visibility', 'end', 'start', 'conferenceData', 'sequence', 'summary',\n",
      "       'htmlLink', 'hangoutLink'],\n",
      "      dtype='object')\n"
     ]
    }
   ],
   "source": [
    "print('Days:', (END_DT - START_DT).days)\n",
    "print('Evts:', len(gcal_events))\n",
    "print('Cols:', gcal_events.columns)"
   ]
  },
  {
   "cell_type": "code",
   "execution_count": 55,
   "metadata": {},
   "outputs": [],
   "source": [
    "event_models = from_gcal_events(gcal_events, 'zack.swafford@plenty.ag')\n",
    "events = pd.DataFrame([e.serialize() for e in event_models])"
   ]
  },
  {
   "cell_type": "code",
   "execution_count": null,
   "metadata": {},
   "outputs": [],
   "source": []
  }
 ],
 "metadata": {
  "kernelspec": {
   "display_name": "Python 3",
   "language": "python",
   "name": "python3"
  },
  "language_info": {
   "codemirror_mode": {
    "name": "ipython",
    "version": 3
   },
   "file_extension": ".py",
   "mimetype": "text/x-python",
   "name": "python",
   "nbconvert_exporter": "python",
   "pygments_lexer": "ipython3",
   "version": "3.7.4"
  }
 },
 "nbformat": 4,
 "nbformat_minor": 2
}
